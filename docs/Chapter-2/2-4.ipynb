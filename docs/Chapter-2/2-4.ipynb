{
 "cells": [
  {
   "cell_type": "markdown",
   "id": "c728ec16",
   "metadata": {},
   "source": [
    "2.4 nn.Module类\n",
    "\n",
    "作为深度学习框架的核心概念之一，模块在PyTorch深度学习模型的建立过程中有着重要作用。模块本身是一个类nn.Module，PyTorch的模型通过继承该类，在类的内部定义实例化的子模块，通过前向计算调用子模块，最后实现整套模型的搭建。"
   ]
  },
  {
   "cell_type": "code",
   "execution_count": 2,
   "id": "56405720",
   "metadata": {},
   "outputs": [],
   "source": [
    "import torch.nn as nn\n",
    "class Model(nn.Module):\n",
    "    def __init__(self, parameter): # 定义类的初始化函数，parameter是用户传入的参数\n",
    "        super(Model, self).__init__()\n",
    "        # 根据传入的参数定义子模块\n",
    "\n",
    "    def forward(self, x):\n",
    "        # 定义前向计算的输入参数，x一般是张量或者其他的参数\n",
    "        output = ... # 根据传入的张量和子模块计算返回张量\n",
    "        return output"
   ]
  },
  {
   "cell_type": "markdown",
   "id": "0755abaf",
   "metadata": {},
   "source": [
    "我们可以看到构建深度学习模块的流程，首先导入`torch.nn`库，然后通过`__init__`方法初始化整个模型，`forward`方法对该模型进行前向计算。其中在使用`__init__`方法的时候，在类内部初始化子模块，然后在`forward`方法中调用这些初始化的子模块，最后输出结果张量。在上面代码中我们将类的名字取为了`Model`，这个可以根据需要自行调整，又因为需要调用父类`nn.Module`的初始化方法，这里需要使用`super`函数来获取当前类的父类(即`nn.Module`)，然后调用父类的构造函数，从而初始化一些必要的变量和参数。"
   ]
  }
 ],
 "metadata": {
  "kernelspec": {
   "display_name": "test",
   "language": "python",
   "name": "python3"
  },
  "language_info": {
   "codemirror_mode": {
    "name": "ipython",
    "version": 3
   },
   "file_extension": ".py",
   "mimetype": "text/x-python",
   "name": "python",
   "nbconvert_exporter": "python",
   "pygments_lexer": "ipython3",
   "version": "3.8.20"
  }
 },
 "nbformat": 4,
 "nbformat_minor": 5
}
